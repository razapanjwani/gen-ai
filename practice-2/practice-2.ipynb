{
 "cells": [
  {
   "cell_type": "code",
   "execution_count": 2,
   "metadata": {},
   "outputs": [],
   "source": [
    "from openai import OpenAI\n",
    "from dotenv import load_dotenv, find_dotenv\n",
    "\n",
    "\n",
    "_:bool = load_dotenv(find_dotenv())\n",
    "client:OpenAI = OpenAI()\n"
   ]
  },
  {
   "cell_type": "code",
   "execution_count": 15,
   "metadata": {},
   "outputs": [
    {
     "data": {
      "text/plain": [
       "ChatCompletion(id='chatcmpl-8cttZh2PFZnqu0WeyxDbzXo7FQqJM', choices=[Choice(finish_reason='stop', index=0, logprobs=None, message=ChatCompletionMessage(content='Operators in Python are special symbols that are used to perform operations on variables and values. They can be used to perform arithmetic, comparison, logical, and other operations. For example, the plus symbol (+) is an operator used for addition, the equals symbol (==) is an operator used for comparison, and the and, or, not are operators used for logical operations. These operators help us manipulate and work with data in our Python programs.', role='assistant', function_call=None, tool_calls=None))], created=1704282017, model='gpt-3.5-turbo-1106', object='chat.completion', system_fingerprint='fp_772e8125bb', usage=CompletionUsage(completion_tokens=89, prompt_tokens=30, total_tokens=119))"
      ]
     },
     "metadata": {},
     "output_type": "display_data"
    },
    {
     "data": {
      "text/plain": [
       "'Operators in Python are special symbols that are used to perform operations on variables and values. They can be used to perform arithmetic, comparison, logical, and other operations. For example, the plus symbol (+) is an operator used for addition, the equals symbol (==) is an operator used for comparison, and the and, or, not are operators used for logical operations. These operators help us manipulate and work with data in our Python programs.'"
      ]
     },
     "execution_count": 15,
     "metadata": {},
     "output_type": "execute_result"
    }
   ],
   "source": [
    "from openai.types.chat.chat_completion import ChatCompletion\n",
    "def get_answer():\n",
    "    response:ChatCompletion = client.chat.completions.create(\n",
    "        model=\"gpt-3.5-turbo-1106\",\n",
    "        messages=[\n",
    "            {\"role\":\"system\",\"content\":\"you are a developer and you can explain complex logic in simple words\"},\n",
    "            {\"role\": \"user\", \"content\": \"what are operator in python?\"},\n",
    "            # {\"role\": \"user\", \"content\": \"what is the meaning of life?\"}\n",
    "            \n",
    "        ]\n",
    "    )\n",
    "    display(response)\n",
    "    return response.choices[0].message.content\n",
    "\n",
    "get_answer()"
   ]
  },
  {
   "cell_type": "code",
   "execution_count": 20,
   "metadata": {},
   "outputs": [
    {
     "name": "stdout",
     "output_type": "stream",
     "text": [
      "<openai.Stream object at 0x0000027C1CC84CE0>\n",
      "ChatCompletionChunk(id='chatcmpl-8cuHch9kel9EQZVUKRlS8Jn2Q69GQ', choices=[Choice(delta=ChoiceDelta(content='', function_call=None, role='assistant', tool_calls=None), finish_reason=None, index=0, logprobs=None)], created=1704283508, model='gpt-3.5-turbo-1106', object='chat.completion.chunk', system_fingerprint='fp_772e8125bb')\n",
      "\n",
      "ChatCompletionChunk(id='chatcmpl-8cuHch9kel9EQZVUKRlS8Jn2Q69GQ', choices=[Choice(delta=ChoiceDelta(content='This', function_call=None, role=None, tool_calls=None), finish_reason=None, index=0, logprobs=None)], created=1704283508, model='gpt-3.5-turbo-1106', object='chat.completion.chunk', system_fingerprint='fp_772e8125bb')\n",
      "This\n",
      "ChatCompletionChunk(id='chatcmpl-8cuHch9kel9EQZVUKRlS8Jn2Q69GQ', choices=[Choice(delta=ChoiceDelta(content=' is', function_call=None, role=None, tool_calls=None), finish_reason=None, index=0, logprobs=None)], created=1704283508, model='gpt-3.5-turbo-1106', object='chat.completion.chunk', system_fingerprint='fp_772e8125bb')\n",
      " is\n",
      "ChatCompletionChunk(id='chatcmpl-8cuHch9kel9EQZVUKRlS8Jn2Q69GQ', choices=[Choice(delta=ChoiceDelta(content=' a', function_call=None, role=None, tool_calls=None), finish_reason=None, index=0, logprobs=None)], created=1704283508, model='gpt-3.5-turbo-1106', object='chat.completion.chunk', system_fingerprint='fp_772e8125bb')\n",
      " a\n",
      "ChatCompletionChunk(id='chatcmpl-8cuHch9kel9EQZVUKRlS8Jn2Q69GQ', choices=[Choice(delta=ChoiceDelta(content=' test', function_call=None, role=None, tool_calls=None), finish_reason=None, index=0, logprobs=None)], created=1704283508, model='gpt-3.5-turbo-1106', object='chat.completion.chunk', system_fingerprint='fp_772e8125bb')\n",
      " test\n",
      "ChatCompletionChunk(id='chatcmpl-8cuHch9kel9EQZVUKRlS8Jn2Q69GQ', choices=[Choice(delta=ChoiceDelta(content='.', function_call=None, role=None, tool_calls=None), finish_reason=None, index=0, logprobs=None)], created=1704283508, model='gpt-3.5-turbo-1106', object='chat.completion.chunk', system_fingerprint='fp_772e8125bb')\n",
      ".\n",
      "ChatCompletionChunk(id='chatcmpl-8cuHch9kel9EQZVUKRlS8Jn2Q69GQ', choices=[Choice(delta=ChoiceDelta(content=None, function_call=None, role=None, tool_calls=None), finish_reason='stop', index=0, logprobs=None)], created=1704283508, model='gpt-3.5-turbo-1106', object='chat.completion.chunk', system_fingerprint='fp_772e8125bb')\n",
      "None\n"
     ]
    }
   ],
   "source": [
    "streaming_response = client.chat.completions.create(\n",
    "    model=\"gpt-3.5-turbo-1106\",\n",
    "    messages=[\n",
    "        {\"role\": \"user\", \"content\": \"say this is a test\"},\n",
    "    ],\n",
    "    stream=True\n",
    ")\n",
    "print(streaming_response)\n",
    "for text in streaming_response:\n",
    "    print(text)\n",
    "    print(text.choices[0].delta.content)"
   ]
  },
  {
   "cell_type": "code",
   "execution_count": 24,
   "metadata": {},
   "outputs": [
    {
     "name": "stdout",
     "output_type": "stream",
     "text": [
      "{\n",
      "  \"languages\": [\n",
      "    \"JavaScript\",\n",
      "    \"Python\",\n",
      "    \"Java\",\n",
      "    \"C#\",\n",
      "    \"C++\"\n",
      "  ]\n",
      "}\n",
      "<class 'str'>\n"
     ]
    }
   ],
   "source": [
    "import json\n",
    "json_mode = client.chat.completions.create(\n",
    "    model=\"gpt-3.5-turbo-1106\",\n",
    "    response_format={\"type\":\"json_object\"},\n",
    "    messages=[\n",
    "        {\"role\":\"system\",\"content\":\"you are a helpful assistant designed to output JSON\"},\n",
    "        {\"role\": \"user\", \"content\": \"name the 5 most common programming languages\"},          \n",
    "    ],  \n",
    ")\n",
    "print(json_mode.choices[0].message.content)\n",
    "print(type(json_mode.choices[0].message.content))\n"
   ]
  },
  {
   "cell_type": "code",
   "execution_count": 27,
   "metadata": {},
   "outputs": [
    {
     "name": "stdout",
     "output_type": "stream",
     "text": [
      "JavaScript\n",
      "Python\n",
      "Java\n",
      "C#\n",
      "C++\n"
     ]
    }
   ],
   "source": [
    "languages_dict:dict[str,list[str]] = json.loads(json_mode.choices[0].message.content)\n",
    "for languauge in languages_dict[\"languages\"]:\n",
    "    print(languauge)"
   ]
  },
  {
   "cell_type": "markdown",
   "metadata": {},
   "source": [
    "# Function Calling\n"
   ]
  },
  {
   "cell_type": "code",
   "execution_count": 72,
   "metadata": {},
   "outputs": [],
   "source": [
    "import json\n",
    "def get_current_weather(location:str, weather:str = \"rainy\"):\n",
    "    if \"pakistan\" == location.lower():\n",
    "        return json.dumps({\"location\":\"pakistan\",\"weather\":\"sunny\"})\n",
    "    elif \"india\" == location.lower():\n",
    "        return json.dumps({\"location\":\"india\",\"weather\":\"windy\"})\n",
    "    else:\n",
    "        return json.dumps({\"location\":location,\"weather\":\"unknown\"})\n",
    "    \n",
    "def get_movie_recommendation(genre:str,rating:float,year:int):\n",
    "    return json.dumps({\"genre\":genre,\"rating\":rating,\"year\":year})\n"
   ]
  },
  {
   "cell_type": "code",
   "execution_count": 75,
   "metadata": {},
   "outputs": [],
   "source": [
    "def my_first_function_call(main_request:str):\n",
    "    message = [{\"role\":\"user\",\"content\":main_request}]\n",
    "    tools = [\n",
    "    {\n",
    "        \"type\":\"function\",\n",
    "        \"function\":{\n",
    "            \"name\":\"get_current_weather\",\n",
    "            \"description\":\"get the current weather in the given location\",\n",
    "            \"parameters\":{\n",
    "                \"type\":\"object\",\n",
    "                \"properties\":{\n",
    "                    \"location\":{\n",
    "                        \"type\":\"string\",\n",
    "                        \"description\":\"the name of the location\"\n",
    "                    },\n",
    "                    \"weather\":{\n",
    "                        \"type\":\"string\",\n",
    "                        \"description\":\"the current weather in the location\"\n",
    "                    }\n",
    "                }\n",
    "            },\n",
    "            \"required\":[\"location\"]\n",
    "        }\n",
    "    },\n",
    "    {\n",
    "        \"type\":\"function\",\n",
    "        \"function\":{\n",
    "            \"name\":\"get_movie_recommendation\",\n",
    "            \"description\":\"You are an assistant that recommends series based on their genre, rating, and year\",\n",
    "            \"parameters\":{\n",
    "                \"type\":\"object\",\n",
    "                \"properties\":{\n",
    "                    \"genre\":{\n",
    "                        \"type\":\"string\",\n",
    "                        \"description\":\"the genre of the movie\"\n",
    "                    },\n",
    "                    \"rating\":{\n",
    "                        \"type\":\"number\",\n",
    "                        \"description\":\"the rating of the movie\"\n",
    "                    },\n",
    "                    \"year\":{\n",
    "                        \"type\":\"number\",\n",
    "                        \"description\":\"the year of the movie\"\n",
    "                    },\n",
    "                },\n",
    "            },\n",
    "            \"required\":[\"genre\",\"rating\",\"year\"]\n",
    "        }\n",
    "    }\n",
    "    ]\n",
    "    response = client.chat.completions.create(\n",
    "        model=\"gpt-3.5-turbo-1106\",\n",
    "        messages=message,\n",
    "        tools=tools,\n",
    "        tool_choice=\"auto\"\n",
    "    )\n",
    "    message_response = response.choices[0].message\n",
    "    print(\"first response: \",dict(message_response))\n",
    "\n",
    "    tool_calls = message_response.tool_calls\n",
    "    print(\"Tools\",list(tool_calls))\n",
    "\n",
    "    if tool_calls:\n",
    "        available_functions = {\n",
    "            \"get_current_weather\":get_current_weather,\n",
    "            \"get_movie_recommendation\":get_movie_recommendation\n",
    "        }\n",
    "        message.append(message_response)\n",
    "        for tool in tool_calls:\n",
    "            function_name = tool.function.name\n",
    "            function_args = json.loads(tool.function.arguments)\n",
    "            function_to_call = available_functions[function_name]\n",
    "            function_response = function_to_call(\n",
    "                # location=function_args.get(\"location\"),\n",
    "                # weather = function_args.get(\"weather\"),\n",
    "                genre = function_args.get(\"genre\"),\n",
    "                rating = function_args.get(\"rating\"),\n",
    "                year = function_args.get(\"year\"),\n",
    "            )\n",
    "\n",
    "            \n",
    "            message.append({\n",
    "                \"tool_call_id\":tool.id,\n",
    "                \"role\":\"tool\",\n",
    "                \"name\":function_name,\n",
    "                \"content\":function_response\n",
    "            })\n",
    "        second_request = client.chat.completions.create(\n",
    "            model=\"gpt-3.5-turbo-1106\",\n",
    "            messages=message\n",
    "        )\n",
    "        return second_request.choices[0].message.content\n",
    "            \n",
    "\n",
    "    \n",
    "\n"
   ]
  },
  {
   "cell_type": "code",
   "execution_count": 76,
   "metadata": {},
   "outputs": [
    {
     "name": "stdout",
     "output_type": "stream",
     "text": [
      "first response:  {'content': None, 'role': 'assistant', 'function_call': None, 'tool_calls': [ChatCompletionMessageToolCall(id='call_17upHr5IOArTbIHWtvIMpzxS', function=Function(arguments='{\"genre\": \"comedy\", \"rating\": 9, \"year\": 2005}', name='get_movie_recommendation'), type='function'), ChatCompletionMessageToolCall(id='call_Yj2SZv9YGxPc1RMtLr4s2VW9', function=Function(arguments='{\"genre\": \"comedy\", \"rating\": 9, \"year\": 2005}', name='get_movie_recommendation'), type='function')]}\n",
      "Tools [ChatCompletionMessageToolCall(id='call_17upHr5IOArTbIHWtvIMpzxS', function=Function(arguments='{\"genre\": \"comedy\", \"rating\": 9, \"year\": 2005}', name='get_movie_recommendation'), type='function'), ChatCompletionMessageToolCall(id='call_Yj2SZv9YGxPc1RMtLr4s2VW9', function=Function(arguments='{\"genre\": \"comedy\", \"rating\": 9, \"year\": 2005}', name='get_movie_recommendation'), type='function')]\n"
     ]
    },
    {
     "data": {
      "text/plain": [
       "'I\\'m sorry, but I couldn\\'t find a comedy movie with a rating greater than 9 released in 2005. However, I can recommend some highly-rated comedy movies from that year. Some of them are \"Wedding Crashers\" and \"The 40-Year-Old Virgin.\" Both of these movies were released in 2005 and received positive reviews.'"
      ]
     },
     "execution_count": 76,
     "metadata": {},
     "output_type": "execute_result"
    }
   ],
   "source": [
    "my_first_function_call(\"suggest me a comedy series with rating greater than 9 realesed in 2005\")\n"
   ]
  },
  {
   "cell_type": "code",
   "execution_count": null,
   "metadata": {},
   "outputs": [],
   "source": []
  },
  {
   "cell_type": "code",
   "execution_count": null,
   "metadata": {},
   "outputs": [],
   "source": []
  }
 ],
 "metadata": {
  "kernelspec": {
   "display_name": "my_python",
   "language": "python",
   "name": "python3"
  },
  "language_info": {
   "codemirror_mode": {
    "name": "ipython",
    "version": 3
   },
   "file_extension": ".py",
   "mimetype": "text/x-python",
   "name": "python",
   "nbconvert_exporter": "python",
   "pygments_lexer": "ipython3",
   "version": "3.12.0"
  }
 },
 "nbformat": 4,
 "nbformat_minor": 2
}
